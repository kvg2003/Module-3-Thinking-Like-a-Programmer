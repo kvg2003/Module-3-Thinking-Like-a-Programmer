{
 "cells": [
  {
   "cell_type": "code",
   "execution_count": 1,
   "id": "e0a0c24b-c791-469f-8ff4-f68069775d04",
   "metadata": {},
   "outputs": [],
   "source": [
    "def shift_letter(letter, shift):\n",
    "    '''Shift Letter. \n",
    "    5 points.\n",
    "    \n",
    "    Shift a letter right by the given number.\n",
    "    Wrap the letter around if it reaches the end of the alphabet.\n",
    "    Examples:\n",
    "    shift_letter(\"A\", 0) -> \"A\"\n",
    "    shift_letter(\"A\", 2) -> \"C\"\n",
    "    shift_letter(\"Z\", 1) -> \"A\"\n",
    "    shift_letter(\"X\", 5) -> \"C\"\n",
    "    shift_letter(\" \", _) -> \" \"\n",
    "    *Note: the single underscore `_` is used to acknowledge the presence\n",
    "        of a value without caring about its contents.\n",
    "    Parameters\n",
    "    ----------\n",
    "    letter: str\n",
    "        a single uppercase English letter, or a space.\n",
    "    shift: int\n",
    "        the number by which to shift the letter. \n",
    "    Returns\n",
    "    -------\n",
    "    str\n",
    "        the letter, shifted appropriately, if a letter.\n",
    "        a single space if the original letter was a space.\n",
    "    '''\n",
    "    # Replace `pass` with your code. \n",
    "    # Stay within the function. Only use the parameters as input. The function should return your answer.\n",
    "    if ord(letter) == 32: \n",
    "        print(\" \")\n",
    "    elif (ord(letter) + shift) >= 91:\n",
    "        return chr((ord(letter) + shift - 90) + 64)\n",
    "    elif ord(letter) >=65:\n",
    "        return chr(ord(letter) + shift)"
   ]
  },
  {
   "cell_type": "code",
   "execution_count": 2,
   "id": "21bce02a-10e7-4fe6-b5f8-99baaf238153",
   "metadata": {},
   "outputs": [
    {
     "data": {
      "text/plain": [
       "'C'"
      ]
     },
     "execution_count": 2,
     "metadata": {},
     "output_type": "execute_result"
    }
   ],
   "source": [
    "shift_letter(\"X\", 5)"
   ]
  },
  {
   "cell_type": "code",
   "execution_count": 3,
   "id": "3e69f221-19b1-457b-82df-abe223d207e8",
   "metadata": {},
   "outputs": [],
   "source": [
    "def caesar_cipher(message, shift):\n",
    "    '''Caesar Cipher. \n",
    "    10 points.\n",
    "    \n",
    "    Apply a shift number to a string of uppercase English letters and spaces.\n",
    "    Parameters\n",
    "    ----------\n",
    "    message: str\n",
    "        a string of uppercase English letters and spaces.\n",
    "    shift: int\n",
    "        the number by which to shift the letters. \n",
    "    Returns\n",
    "    -------\n",
    "    str\n",
    "        the message, shifted appropriately.\n",
    "    '''\n",
    "    # Replace `pass` with your code. \n",
    "    # Stay within the function. Only use the parameters as input. The function should return your answer.\n",
    "    caesar = \"\"\n",
    "    for i in message: \n",
    "        if i.isupper():\n",
    "            i_upper = ord(i) - ord(\"A\")\n",
    "            i_new = chr((i_upper + shift) % 26 + ord(\"A\"))\n",
    "            caesar += i_new\n",
    "        elif i.islower(): \n",
    "            i_lower = ord(i) - ord(\"a\") \n",
    "            i_new = chr((i_lower + shift) % 26 + ord(\"a\"))\n",
    "            caesar += i_new\n",
    "        elif i.isdigit():\n",
    "            i_new = (int(i) + shift) % 10\n",
    "            caesar += str(i_new)\n",
    "        else:\n",
    "            caesar += i\n",
    "    return caesar"
   ]
  },
  {
   "cell_type": "code",
   "execution_count": 4,
   "id": "9c174157-7442-41e7-90dd-07491712d72c",
   "metadata": {},
   "outputs": [
    {
     "data": {
      "text/plain": [
       "'OSS OSOS'"
      ]
     },
     "execution_count": 4,
     "metadata": {},
     "output_type": "execute_result"
    }
   ],
   "source": [
    "caesar_cipher(\"KOO KOKO\", 4)"
   ]
  },
  {
   "cell_type": "code",
   "execution_count": 5,
   "id": "1b5e8d52-379b-4922-9a60-5537d220d0cd",
   "metadata": {},
   "outputs": [],
   "source": [
    "def shift_by_letter(letter, letter_shift):\n",
    "    '''Shift By Letter. \n",
    "    10 points.\n",
    "    \n",
    "    Shift a letter to the right using the number equivalent of another letter.\n",
    "    The shift letter is any letter from A to Z, where A represents 0, B represents 1, \n",
    "        ..., Z represents 25.\n",
    "    Examples:\n",
    "    shift_by_letter(\"A\", \"A\") -> \"A\"\n",
    "    shift_by_letter(\"A\", \"C\") -> \"C\"\n",
    "    shift_by_letter(\"B\", \"K\") -> \"L\"\n",
    "    shift_by_letter(\" \", _) -> \" \"\n",
    "    Parameters\n",
    "    ----------\n",
    "    letter: str\n",
    "        a single uppercase English letter, or a space.\n",
    "    letter_shift: str\n",
    "        a single uppercase English letter.\n",
    "    Returns\n",
    "    -------\n",
    "    str\n",
    "        the letter, shifted appropriately.\n",
    "    '''\n",
    "    # Replace `pass` with your code. \n",
    "    # Stay within the function. Only use the parameters as input. The function should return your answer.\n",
    "    if ord(letter) == 32:\n",
    "        print(\" \")\n",
    "    for i in range(65, 91):\n",
    "        if ((ord(letter) - ord(\"A\")) + ord(letter_shift)) >= 91: \n",
    "            return chr((ord(letter) + ord(letter_shift)) - 91)\n",
    "        elif ord(letter) >= 65:\n",
    "            return chr(((ord(letter) - ord(\"A\")) + ord(letter_shift)))"
   ]
  },
  {
   "cell_type": "code",
   "execution_count": 6,
   "id": "f2f0b8bf-4832-4846-ad93-fd061ce73f1b",
   "metadata": {},
   "outputs": [
    {
     "data": {
      "text/plain": [
       "'Z'"
      ]
     },
     "execution_count": 6,
     "metadata": {},
     "output_type": "execute_result"
    }
   ],
   "source": [
    "shift_by_letter(\"Z\", \"A\")"
   ]
  },
  {
   "cell_type": "code",
   "execution_count": 7,
   "id": "8fa47009-caad-43f7-8d17-a0323d63cd29",
   "metadata": {},
   "outputs": [],
   "source": [
    "def vigenere_cipher(message, key):\n",
    "    '''Vigenere Cipher. \n",
    "    15 points.\n",
    "    \n",
    "    Encrypts a message using a keyphrase instead of a static number.\n",
    "    Every letter in the message is shifted by the number represented by the \n",
    "        respective letter in the key.\n",
    "    Spaces should be ignored.\n",
    "    Example:\n",
    "    vigenere_cipher(\"A C\", \"KEY\") -> \"K A\"\n",
    "    If needed, the keyphrase is extended to match the length of the key.\n",
    "        If the key is \"KEY\" and the message is \"LONGTEXT\",\n",
    "        the key will be extended to be \"KEYKEYKE\".\n",
    "    Parameters\n",
    "    ----------\n",
    "    message: str\n",
    "        a string of uppercase English letters and spaces.\n",
    "    key: str\n",
    "        a string of uppercase English letters. Will never be longer than the message.\n",
    "        Will never contain spaces.\n",
    "    Returns\n",
    "    -------\n",
    "    str\n",
    "        the message, shifted appropriately.\n",
    "    '''\n",
    "    # Replace `pass` with your code. \n",
    "    # Stay within the function. Only use the parameters as input. The function should return your answer.\n",
    "    vigenere = \"\"\n",
    "    for i in range(len([ord(i) for i in message])):\n",
    "        if message[i] == \" \":\n",
    "            vigenere += \" \"\n",
    "        else: \n",
    "            vigenere_value = (((([ord(i) for i in message][i]) + ([ord(i) for i in key][i])) % 26) + 65)\n",
    "            vigenere += chr(vigenere_value)\n",
    "    return vigenere"
   ]
  },
  {
   "cell_type": "code",
   "execution_count": 8,
   "id": "e8e12e96-5272-4058-bedf-2e53cf64bf87",
   "metadata": {},
   "outputs": [
    {
     "data": {
      "text/plain": [
       "'K A'"
      ]
     },
     "execution_count": 8,
     "metadata": {},
     "output_type": "execute_result"
    }
   ],
   "source": [
    "vigenere_cipher(\"A C\", \"KEY\")"
   ]
  },
  {
   "cell_type": "code",
   "execution_count": 1,
   "id": "a9fe3c5a-c27f-41e1-86a4-8350d683e254",
   "metadata": {},
   "outputs": [],
   "source": [
    "def scytale_cipher(message, shift):\n",
    "    '''Scytale Cipher.\n",
    "    15 points.\n",
    "    \n",
    "    Encrypts a message by simulating a scytale cipher.\n",
    "    A scytale is a cylinder around which you can wrap a long strip of \n",
    "        parchment that contained a string of apparent gibberish. The parchment, \n",
    "        when read using the scytale, would reveal a message due to every nth \n",
    "        letter now appearing next to each other, revealing a proper message.\n",
    "    This encryption method is obsolete and should never be used to encrypt\n",
    "        data in production settings.\n",
    "    You may read more about the method here:\n",
    "        https://en.wikipedia.org/wiki/Scytale\n",
    "    You may follow this algorithm to implement a scytale-style cipher:\n",
    "    1. Take a message to be encoded and a \"shift\" number. \n",
    "        For this example, we will use \"INFORMATION_AGE\" as \n",
    "        the message and 3 as the shift.\n",
    "    2. Check if the length of the message is a multiple of \n",
    "        the shift. If it is not, add additional underscores \n",
    "        to the end of the message until it is. \n",
    "        In this example, \"INFORMATION_AGE\" is already a multiple of 3, \n",
    "        so we will leave it alone.\n",
    "    3. This is the tricky part. Construct the encoded message. \n",
    "        For each index i in the encoded message, use the character at the index\n",
    "        (i // shift) + (len(message) // shift) * (i % shift) of the raw message. \n",
    "        If this number doesn't make sense, you can play around with the cipher at\n",
    "         https://dencode.com/en/cipher/scytale to try to understand it.\n",
    "    4. Return the encoded message. In this case, \n",
    "        the output should be \"IMNNA_FTAOIGROE\".\n",
    "    Example:\n",
    "    scytale_cipher(\"INFORMATION_AGE\", 3) -> \"IMNNA_FTAOIGROE\"\n",
    "    scytale_cipher(\"INFORMATION_AGE\", 4) -> \"IRIANMOGFANEOT__\"\n",
    "    scytale_cipher(\"ALGORITHMS_ARE_IMPORTANT\", 8) -> \"AOTSRIOALRH_EMRNGIMA_PTT\"\n",
    "    Parameters\n",
    "    ----------\n",
    "    message: str\n",
    "        a string of uppercase English letters and underscores (underscores represent spaces)\n",
    "    shift: int\n",
    "        a positive int that does not exceed the length of message\n",
    "    Returns\n",
    "    -------\n",
    "    str\n",
    "        the encoded message\n",
    "    '''\n",
    "    # Replace `pass` with your code. \n",
    "    # Stay within the function. Only use the parameters as input. The function should return your answer.\n",
    "    message = str(message)\n",
    "    shift = int(shift)\n",
    "    scytale= \"\"\n",
    "    while(True):\n",
    "        if (len(message) % shift) !=0:\n",
    "            message += \"_\"\n",
    "            \n",
    "        else:\n",
    "            for i, letter in enumerate(message):\n",
    "                code = (i // shift) + (len(message) // shift)* (i % shift)\n",
    "                i = code \n",
    "                letter = message[i]\n",
    "                scytale += letter\n",
    "            return scytale"
   ]
  },
  {
   "cell_type": "code",
   "execution_count": 11,
   "id": "85c0af6c-8614-43f1-9a54-ff4dd3b4fcc3",
   "metadata": {},
   "outputs": [
    {
     "data": {
      "text/plain": [
       "'AOTSRIOALRH_EMRNGIMA_PTT'"
      ]
     },
     "execution_count": 11,
     "metadata": {},
     "output_type": "execute_result"
    }
   ],
   "source": [
    "scytale_cipher(\"ALGORITHMS_ARE_IMPORTANT\", 8)"
   ]
  },
  {
   "cell_type": "code",
   "execution_count": 8,
   "id": "c0f442c0-e31a-414c-8676-b8c117a4cca9",
   "metadata": {},
   "outputs": [],
   "source": [
    "def scytale_decipher(message, shift):\n",
    "    '''Scytale De-cipher.\n",
    "    15 points.\n",
    "    Decrypts a message that was originally encrypted with the `scytale_cipher` function above.\n",
    "    Example:\n",
    "    scytale_decipher(\"IMNNA_FTAOIGROE\", 3) -> \"INFORMATION_AGE\"\n",
    "    scytale_decipher(\"AOTSRIOALRH_EMRNGIMA_PTT\", 8) -> \"ALGORITHMS_ARE_IMPORTANT\"\n",
    "    scytale_decipher(\"IRIANMOGFANEOT__\", 4) -> \"INFORMATION_AGE_\"\n",
    "    There is no further brief for this number.\n",
    "    \n",
    "    Parameters\n",
    "    ----------\n",
    "    message: str\n",
    "        a string of uppercase English letters and underscores (underscores represent spaces)\n",
    "    shift: int\n",
    "        a positive int that does not exceed the length of message\n",
    "    Returns\n",
    "    -------\n",
    "    str\n",
    "        the decoded message\n",
    "    '''\n",
    "    # Replace `pass` with your code. \n",
    "    # Stay within the function. Only use the parameters as input. The function should return your answer.\n",
    "    \n",
    "    message = str(message)\n",
    "    shift = int(shift)\n",
    "    scytale = \"\"\n",
    "    \n",
    "    while (len(scytale) < len(message)):\n",
    "        scytale += \"_\"\n",
    "        \n",
    "    for i,v in enumerate(message):\n",
    "        new = (i // shift)+(len(message) // shift)*(i % shift)\n",
    "        for a,b in enumerate (scytale):\n",
    "            scytale = scytale[:new]+ v + scytale[new+1:]\n",
    "    return scytale"
   ]
  },
  {
   "cell_type": "code",
   "execution_count": 10,
   "id": "980bf970-c76d-4738-8aec-94e76825b8f4",
   "metadata": {},
   "outputs": [
    {
     "data": {
      "text/plain": [
       "'ALGORITHMS_ARE_IMPORTANT'"
      ]
     },
     "execution_count": 10,
     "metadata": {},
     "output_type": "execute_result"
    }
   ],
   "source": [
    "scytale_decipher(\"AOTSRIOALRH_EMRNGIMA_PTT\", 8)"
   ]
  },
  {
   "cell_type": "code",
   "execution_count": null,
   "id": "8aff4fb1-d1d9-49ae-8f2d-07015fd989f8",
   "metadata": {},
   "outputs": [],
   "source": []
  }
 ],
 "metadata": {
  "kernelspec": {
   "display_name": "Python 3 (ipykernel)",
   "language": "python",
   "name": "python3"
  },
  "language_info": {
   "codemirror_mode": {
    "name": "ipython",
    "version": 3
   },
   "file_extension": ".py",
   "mimetype": "text/x-python",
   "name": "python",
   "nbconvert_exporter": "python",
   "pygments_lexer": "ipython3",
   "version": "3.9.12"
  }
 },
 "nbformat": 4,
 "nbformat_minor": 5
}
